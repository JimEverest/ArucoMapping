{
 "cells": [
  {
   "cell_type": "code",
   "execution_count": 1,
   "metadata": {
    "ExecuteTime": {
     "end_time": "2020-04-02T06:39:09.063976Z",
     "start_time": "2020-04-02T06:39:08.923922Z"
    }
   },
   "outputs": [],
   "source": [
    "import math\n",
    "import numpy as np"
   ]
  },
  {
   "cell_type": "code",
   "execution_count": null,
   "metadata": {
    "ExecuteTime": {
     "end_time": "2020-04-02T06:39:21.146495Z",
     "start_time": "2020-04-02T06:39:21.113667Z"
    }
   },
   "outputs": [],
   "source": []
  },
  {
   "cell_type": "code",
   "execution_count": 1,
   "metadata": {
    "ExecuteTime": {
     "end_time": "2020-04-15T10:23:34.124122Z",
     "start_time": "2020-04-15T10:23:34.114265Z"
    }
   },
   "outputs": [
    {
     "data": {
      "text/plain": [
       "array([[-1.0000000e+00, -1.2246468e-16],\n",
       "       [ 1.2246468e-16, -1.0000000e+00]])"
      ]
     },
     "execution_count": 1,
     "metadata": {},
     "output_type": "execute_result"
    }
   ],
   "source": [
    "theta = np.pi\n",
    "\n",
    "rot_M = np.array([[np.cos(theta),-np.sin(theta)],\n",
    "                  [np.sin(theta),np.cos(theta)]\n",
    "                 ])\n",
    "\n",
    "rot_M \n",
    "\n"
   ]
  },
  {
   "cell_type": "code",
   "execution_count": 2,
   "metadata": {
    "ExecuteTime": {
     "end_time": "2020-04-15T10:24:02.686184Z",
     "start_time": "2020-04-15T10:24:02.682185Z"
    }
   },
   "outputs": [
    {
     "data": {
      "text/plain": [
       "0.09"
      ]
     },
     "execution_count": 2,
     "metadata": {},
     "output_type": "execute_result"
    }
   ],
   "source": [
    "CMx,CMy,CMz = np.array([0.09,-0.11,0.43]) #  cam-marker \n",
    "WMxy = np.array([-4.6,5.4])               #world-marker \n",
    "MCxy = np.array([CMx,CMz])                #  marker-cam\n",
    "\n",
    "CMx"
   ]
  },
  {
   "cell_type": "code",
   "execution_count": 3,
   "metadata": {
    "ExecuteTime": {
     "end_time": "2020-04-15T10:24:10.671553Z",
     "start_time": "2020-04-15T10:24:10.655606Z"
    }
   },
   "outputs": [
    {
     "data": {
      "text/plain": [
       "array([-0.09, -0.43])"
      ]
     },
     "execution_count": 3,
     "metadata": {},
     "output_type": "execute_result"
    }
   ],
   "source": [
    "ROT_XY = rot_M.dot(MCxy)               #   Rmarker-cam\n",
    "ROT_XY"
   ]
  },
  {
   "cell_type": "code",
   "execution_count": 4,
   "metadata": {
    "ExecuteTime": {
     "end_time": "2020-04-15T10:24:18.056194Z",
     "start_time": "2020-04-15T10:24:18.051196Z"
    }
   },
   "outputs": [
    {
     "data": {
      "text/plain": [
       "array([-4.69,  4.97])"
      ]
     },
     "execution_count": 4,
     "metadata": {},
     "output_type": "execute_result"
    }
   ],
   "source": [
    "New_XY = ROT_XY + WMxy                 #   World-cam\n",
    "New_XY"
   ]
  },
  {
   "cell_type": "code",
   "execution_count": null,
   "metadata": {},
   "outputs": [],
   "source": []
  }
 ],
 "metadata": {
  "kernelspec": {
   "display_name": "Python 3",
   "language": "python",
   "name": "python3"
  },
  "language_info": {
   "codemirror_mode": {
    "name": "ipython",
    "version": 3
   },
   "file_extension": ".py",
   "mimetype": "text/x-python",
   "name": "python",
   "nbconvert_exporter": "python",
   "pygments_lexer": "ipython3",
   "version": "3.6.5"
  },
  "varInspector": {
   "cols": {
    "lenName": 16,
    "lenType": 16,
    "lenVar": 40
   },
   "kernels_config": {
    "python": {
     "delete_cmd_postfix": "",
     "delete_cmd_prefix": "del ",
     "library": "var_list.py",
     "varRefreshCmd": "print(var_dic_list())"
    },
    "r": {
     "delete_cmd_postfix": ") ",
     "delete_cmd_prefix": "rm(",
     "library": "var_list.r",
     "varRefreshCmd": "cat(var_dic_list()) "
    }
   },
   "types_to_exclude": [
    "module",
    "function",
    "builtin_function_or_method",
    "instance",
    "_Feature"
   ],
   "window_display": false
  }
 },
 "nbformat": 4,
 "nbformat_minor": 2
}
