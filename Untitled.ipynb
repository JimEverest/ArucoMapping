{
  "nbformat": 4,
  "nbformat_minor": 0,
  "metadata": {
    "kernelspec": {
      "display_name": "Python 3",
      "language": "python",
      "name": "python3"
    },
    "language_info": {
      "codemirror_mode": {
        "name": "ipython",
        "version": 3
      },
      "file_extension": ".py",
      "mimetype": "text/x-python",
      "name": "python",
      "nbconvert_exporter": "python",
      "pygments_lexer": "ipython3",
      "version": "3.6.5"
    },
    "varInspector": {
      "cols": {
        "lenName": 16,
        "lenType": 16,
        "lenVar": 40
      },
      "kernels_config": {
        "python": {
          "delete_cmd_postfix": "",
          "delete_cmd_prefix": "del ",
          "library": "var_list.py",
          "varRefreshCmd": "print(var_dic_list())"
        },
        "r": {
          "delete_cmd_postfix": ") ",
          "delete_cmd_prefix": "rm(",
          "library": "var_list.r",
          "varRefreshCmd": "cat(var_dic_list()) "
        }
      },
      "types_to_exclude": [
        "module",
        "function",
        "builtin_function_or_method",
        "instance",
        "_Feature"
      ],
      "window_display": false
    },
    "colab": {
      "name": "Untitled.ipynb",
      "provenance": []
    }
  },
  "cells": [
    {
      "cell_type": "code",
      "metadata": {
        "ExecuteTime": {
          "end_time": "2020-04-02T06:39:09.063976Z",
          "start_time": "2020-04-02T06:39:08.923922Z"
        },
        "id": "-Im6oBQ1eiJv",
        "colab_type": "code",
        "colab": {}
      },
      "source": [
        "import math\n",
        "import numpy as np\n",
        "## test"
      ],
      "execution_count": 0,
      "outputs": []
    },
    {
      "cell_type": "markdown",
      "metadata": {
        "id": "Ivjq6Li8f3s_",
        "colab_type": "text"
      },
      "source": [
        "![samplet](https://raw.githubusercontent.com/JimEverest/ArucoMapping/master/Intro/3.jpg)"
      ]
    },
    {
      "cell_type": "code",
      "metadata": {
        "ExecuteTime": {
          "end_time": "2020-04-15T10:23:34.124122Z",
          "start_time": "2020-04-15T10:23:34.114265Z"
        },
        "id": "wuQQCZKgeiKO",
        "colab_type": "code",
        "colab": {},
        "outputId": "585810ee-aef1-4121-a774-c799077be8c3"
      },
      "source": [
        "theta = np.pi\n",
        "\n",
        "rot_M = np.array([[np.cos(theta),-np.sin(theta)],\n",
        "                  [np.sin(theta),np.cos(theta)]\n",
        "                 ])\n",
        "\n",
        "rot_M \n",
        "\n"
      ],
      "execution_count": 0,
      "outputs": [
        {
          "output_type": "execute_result",
          "data": {
            "text/plain": [
              "array([[-1.0000000e+00, -1.2246468e-16],\n",
              "       [ 1.2246468e-16, -1.0000000e+00]])"
            ]
          },
          "metadata": {
            "tags": []
          },
          "execution_count": 1
        }
      ]
    },
    {
      "cell_type": "code",
      "metadata": {
        "ExecuteTime": {
          "end_time": "2020-04-15T10:24:02.686184Z",
          "start_time": "2020-04-15T10:24:02.682185Z"
        },
        "id": "8wboGplReiKp",
        "colab_type": "code",
        "colab": {},
        "outputId": "014e42cb-2815-412e-9dcd-77eb767ce7c4"
      },
      "source": [
        "CMx,CMy,CMz = np.array([0.09,-0.11,0.43]) #  cam-marker \n",
        "WMxy = np.array([-4.6,5.4])               #world-marker \n",
        "MCxy = np.array([CMx,CMz])                #  marker-cam\n",
        "\n",
        "CMx"
      ],
      "execution_count": 0,
      "outputs": [
        {
          "output_type": "execute_result",
          "data": {
            "text/plain": [
              "0.09"
            ]
          },
          "metadata": {
            "tags": []
          },
          "execution_count": 2
        }
      ]
    },
    {
      "cell_type": "code",
      "metadata": {
        "ExecuteTime": {
          "end_time": "2020-04-15T10:24:10.671553Z",
          "start_time": "2020-04-15T10:24:10.655606Z"
        },
        "id": "wbHJkMjVeiK3",
        "colab_type": "code",
        "colab": {},
        "outputId": "a4fd5382-0703-4e75-ab2c-6294ea05f3dc"
      },
      "source": [
        "ROT_XY = rot_M.dot(MCxy)               #   Rmarker-cam\n",
        "ROT_XY"
      ],
      "execution_count": 0,
      "outputs": [
        {
          "output_type": "execute_result",
          "data": {
            "text/plain": [
              "array([-0.09, -0.43])"
            ]
          },
          "metadata": {
            "tags": []
          },
          "execution_count": 3
        }
      ]
    },
    {
      "cell_type": "code",
      "metadata": {
        "ExecuteTime": {
          "end_time": "2020-04-15T10:24:18.056194Z",
          "start_time": "2020-04-15T10:24:18.051196Z"
        },
        "id": "q8awKPA8eiLC",
        "colab_type": "code",
        "colab": {},
        "outputId": "8dc7b6c8-2fa0-4d49-c73b-78256a84931c"
      },
      "source": [
        "New_XY = ROT_XY + WMxy                 #   World-cam\n",
        "New_XY"
      ],
      "execution_count": 0,
      "outputs": [
        {
          "output_type": "execute_result",
          "data": {
            "text/plain": [
              "array([-4.69,  4.97])"
            ]
          },
          "metadata": {
            "tags": []
          },
          "execution_count": 4
        }
      ]
    },
    {
      "cell_type": "markdown",
      "metadata": {
        "id": "mJ0LEg8Sf9O4",
        "colab_type": "text"
      },
      "source": [
        "![alt text](https://raw.githubusercontent.com/JimEverest/ArucoMapping/master/Intro/1.jpg)"
      ]
    },
    {
      "cell_type": "markdown",
      "metadata": {
        "id": "8_hzkWM6gDNE",
        "colab_type": "text"
      },
      "source": [
        "![alt text](https://raw.githubusercontent.com/JimEverest/ArucoMapping/master/Intro/2.jpg)"
      ]
    },
    {
      "cell_type": "code",
      "metadata": {
        "id": "95iUc5FgeiLQ",
        "colab_type": "code",
        "colab": {}
      },
      "source": [
        "\n",
        "\n"
      ],
      "execution_count": 0,
      "outputs": []
    }
  ]
}